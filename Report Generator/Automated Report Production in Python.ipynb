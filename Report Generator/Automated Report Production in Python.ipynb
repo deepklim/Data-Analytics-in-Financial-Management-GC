{
 "cells": [
  {
   "cell_type": "markdown",
   "metadata": {},
   "source": [
    "# Automated Report Production in Python"
   ]
  },
  {
   "cell_type": "markdown",
   "metadata": {},
   "source": [
    "### Mindset: Setting up a factory. Slow for the first unit, vastly faster for all others.\n",
    "* Real world example: 1 month to produce reports by hand; 1.5 days to send emails\n",
    "* Now takes 12 minutes"
   ]
  },
  {
   "cell_type": "markdown",
   "metadata": {},
   "source": [
    "## 1. Import packages\n",
    "* Matplotlib: Create charts\n",
    "* PIL: Image processing (use to add FIPs like the Canada logo)"
   ]
  },
  {
   "cell_type": "code",
   "execution_count": null,
   "metadata": {},
   "outputs": [],
   "source": [
    "%matplotlib agg\n",
    "\n",
    "import datetime\n",
    "import math\n",
    "from matplotlib import rcParams\n",
    "import matplotlib.pyplot as plt\n",
    "from PIL import Image"
   ]
  },
  {
   "cell_type": "markdown",
   "metadata": {},
   "source": [
    "## 2. Build layout"
   ]
  },
  {
   "cell_type": "markdown",
   "metadata": {},
   "source": [
    "### 2.1 Create figure\n",
    "* Figure represents our page\n",
    "* Set to legal-sized page, landscape orientation "
   ]
  },
  {
   "cell_type": "code",
   "execution_count": null,
   "metadata": {},
   "outputs": [],
   "source": [
    "fig = plt.figure()\n",
    "fig.set_figheight(12.75)\n",
    "fig.set_figwidth(21)\n",
    "fig.set_facecolor('white')\n",
    "rcParams['font.family'] = 'Calibri'"
   ]
  },
  {
   "cell_type": "markdown",
   "metadata": {},
   "source": [
    "### 2.2 Add axes\n",
    "* Figure is divided into axes\n",
    "* Each axis is where you can place a chart or other content\n",
    "* Add padding between the axes so titles don't overlap"
   ]
  },
  {
   "cell_type": "code",
   "execution_count": null,
   "metadata": {},
   "outputs": [],
   "source": [
    "header =  plt.subplot2grid((18, 8), (0, 0), rowspan=1, colspan=8)\n",
    "chart_1 = plt.subplot2grid((18, 8), (1, 0), rowspan=8, colspan=4)\n",
    "chart_2 = plt.subplot2grid((18, 8), (1, 4), rowspan=8, colspan=4)\n",
    "chart_3 = plt.subplot2grid((18, 8), (9, 0), rowspan=8, colspan=4)\n",
    "chart_4 = plt.subplot2grid((18, 8), (9, 4), rowspan=8, colspan=4)\n",
    "footer =  plt.subplot2grid((18, 8), (17, 0), rowspan=1, colspan=8)\n",
    "\n",
    "fig.tight_layout(pad=1.0, h_pad=1.8)"
   ]
  },
  {
   "cell_type": "code",
   "execution_count": null,
   "metadata": {},
   "outputs": [],
   "source": [
    "display(fig)"
   ]
  },
  {
   "cell_type": "markdown",
   "metadata": {},
   "source": [
    "### 2.3 Add FIPs\n",
    "* Use a helper function 'get_pic' to resize the FIPs to fit nicely on the page"
   ]
  },
  {
   "cell_type": "code",
   "execution_count": null,
   "metadata": {},
   "outputs": [],
   "source": [
    "def get_pic(file, resize_factor=1):\n",
    "    pic = Image.open(file)\n",
    "    width  = math.floor(pic.size[0] / resize_factor)\n",
    "    height = math.floor(pic.size[1] / resize_factor)\n",
    "    pic = pic.resize((width, height), resample=Image.ANTIALIAS)\n",
    "    return pic, width, height\n",
    "\n",
    "# Top left\n",
    "csps, width, height = get_pic('FIPs/csps.png', resize_factor=2.5)\n",
    "fig.figimage(csps, xo=0, yo=fig.bbox.ymax - height, origin='upper', zorder=1)\n",
    "\n",
    "# Bottom left\n",
    "my_school, width, height = get_pic('FIPs/my_school.png', resize_factor=1.2)\n",
    "fig.figimage(my_school, xo=0, yo=0, origin='upper', zorder=1)\n",
    "\n",
    "# Bottom right\n",
    "canada, width, height = get_pic('FIPs/canada.png', resize_factor=2.5)\n",
    "fig.figimage(canada, xo=fig.bbox.xmax - width, yo=0, origin='upper', zorder=1)"
   ]
  },
  {
   "cell_type": "code",
   "execution_count": null,
   "metadata": {},
   "outputs": [],
   "source": [
    "display(fig)"
   ]
  },
  {
   "cell_type": "markdown",
   "metadata": {},
   "source": [
    "### 2.4 Add text"
   ]
  },
  {
   "cell_type": "code",
   "execution_count": null,
   "metadata": {},
   "outputs": [],
   "source": [
    "footer.text(x=0.9, y=0.5, horizontalalignment='right', fontsize=8, s='See Appendix 1 for Methodology – ' + \\\n",
    "    'Consulter l\\'Annexe 1 pour la méthodologie')\n",
    "\n",
    "footer.text(x=0.9, y=-0.4, horizontalalignment='right', fontsize=8, s='Report generated on – ' + \\\n",
    "    'Rapport généré le ' + datetime.datetime.today().strftime('%d/%m/%Y'))\n",
    "\n",
    "footer.text(x=0.9, y=-1.3, horizontalalignment='right', fontsize=8, s='Page 1/1')"
   ]
  },
  {
   "cell_type": "code",
   "execution_count": null,
   "metadata": {},
   "outputs": [],
   "source": [
    "display(fig)"
   ]
  },
  {
   "cell_type": "markdown",
   "metadata": {},
   "source": [
    "### 2.5 Remove unnecessary gridlines"
   ]
  },
  {
   "cell_type": "code",
   "execution_count": null,
   "metadata": {},
   "outputs": [],
   "source": [
    "def remove_gridlines(ax):\n",
    "    ax.axis('off')\n",
    "\n",
    "remove_gridlines(header)\n",
    "remove_gridlines(footer)"
   ]
  },
  {
   "cell_type": "code",
   "execution_count": null,
   "metadata": {},
   "outputs": [],
   "source": [
    "display(fig)"
   ]
  },
  {
   "cell_type": "markdown",
   "metadata": {},
   "source": [
    "## 3. The fun part: Add charts"
   ]
  },
  {
   "cell_type": "markdown",
   "metadata": {},
   "source": [
    "### 3.1 Add a simple piechart to see how Matplotlib is used\n",
    "* Can use hex to specify colours\n",
    "* Your department likely has an official colour swatch with values in hex and RGB"
   ]
  },
  {
   "cell_type": "code",
   "execution_count": null,
   "metadata": {},
   "outputs": [],
   "source": [
    "labels = ['Moose', 'Beaver', 'Chipmunk']\n",
    "values = [4, 5, 6]\n",
    "colour_list = ['#005261', '#A4BCC4', '#54575A']\n",
    "\n",
    "chart_1.pie(x=values, labels=labels, explode=[0, 0.05, 0], colors=colour_list)\n",
    "chart_1.set_title('Species Employed in NCR', fontsize=16)\n",
    "# Fix skew\n",
    "chart_1.axis('equal')"
   ]
  },
  {
   "cell_type": "code",
   "execution_count": null,
   "metadata": {},
   "outputs": [],
   "source": [
    "display(fig)"
   ]
  },
  {
   "cell_type": "markdown",
   "metadata": {},
   "source": [
    "### 3.2 Import a data set\n",
    "* In practice, never want to manually enter numbers for charts, especially when automating\n",
    "* Using the Pandas library, short for PANel DAta\n",
    "* Tip: Ensure encodings match to prevent Français -> FranÃ§ais"
   ]
  },
  {
   "cell_type": "code",
   "execution_count": null,
   "metadata": {},
   "outputs": [],
   "source": [
    "import pandas as pd"
   ]
  },
  {
   "cell_type": "code",
   "execution_count": null,
   "metadata": {},
   "outputs": [],
   "source": [
    "store_data = pd.read_csv('store_data.csv', sep=',', index_col=0, encoding='utf-8')"
   ]
  },
  {
   "cell_type": "code",
   "execution_count": null,
   "metadata": {},
   "outputs": [],
   "source": [
    "# For the database enthusiasts, we're importing a denormalized table\n",
    "# Can import multiple files and perform joins in Pandas if needed\n",
    "store_data.head()"
   ]
  },
  {
   "cell_type": "markdown",
   "metadata": {},
   "source": [
    "### 3.3 Extract an interesting insight from the dataset\n",
    "* Let's begin with coffee and calculate its monthly sales"
   ]
  },
  {
   "cell_type": "code",
   "execution_count": null,
   "metadata": {},
   "outputs": [],
   "source": [
    "# Get rows where product_name is 'Coffee', and we're only interested in columns 'quantity', 'month', and 'month_num'\n",
    "monthly_coffee = store_data.loc[store_data['product_name'] == 'Coffee', ['quantity', 'month', 'month_num']]\n",
    "# Roll-up sales by month\n",
    "monthly_coffee = monthly_coffee.groupby(['month', 'month_num'], as_index=False).sum()\n",
    "# Sort\n",
    "monthly_coffee = monthly_coffee.sort_values('month_num')"
   ]
  },
  {
   "cell_type": "code",
   "execution_count": null,
   "metadata": {},
   "outputs": [],
   "source": [
    "monthly_coffee"
   ]
  },
  {
   "cell_type": "markdown",
   "metadata": {},
   "source": [
    "### 3.4 Plot the insight on a chart"
   ]
  },
  {
   "cell_type": "code",
   "execution_count": null,
   "metadata": {},
   "outputs": [],
   "source": [
    "chart_2.plot(monthly_coffee['month'], monthly_coffee['quantity'], color=colour_list[0])\n",
    "chart_2.set_title('Monthly Coffee Sales', fontsize=16)"
   ]
  },
  {
   "cell_type": "code",
   "execution_count": null,
   "metadata": {
    "scrolled": false
   },
   "outputs": [],
   "source": [
    "display(fig)"
   ]
  },
  {
   "cell_type": "markdown",
   "metadata": {},
   "source": [
    "## 4. Add remaining two charts\n",
    "* Will skip explanation for sake of time but can use code as reference"
   ]
  },
  {
   "cell_type": "markdown",
   "metadata": {},
   "source": [
    "### 4.1 Client satisfaction"
   ]
  },
  {
   "cell_type": "code",
   "execution_count": null,
   "metadata": {},
   "outputs": [],
   "source": [
    "satisfied = store_data.loc[store_data['product_name'] == 'Coffee', ['satisfied']].sum()\n",
    "total = store_data.loc[store_data['product_name'] == 'Coffee', ['satisfied']].count()\n",
    "dissatisfied = total - satisfied\n",
    "colour_list = ['#005261', '#567582']\n",
    "\n",
    "bars = chart_3.bar(x=['Satisfied', 'Dissatisfied'], height=[int(satisfied), int(dissatisfied)])\n",
    "chart_3.set_title('Customer Satisfaction with Coffee', fontsize=16)\n",
    "bars[0].set_color(colour_list[0])\n",
    "bars[1].set_color(colour_list[1])"
   ]
  },
  {
   "cell_type": "code",
   "execution_count": null,
   "metadata": {},
   "outputs": [],
   "source": [
    "display(fig)"
   ]
  },
  {
   "cell_type": "markdown",
   "metadata": {},
   "source": [
    "### 4.2 Market share"
   ]
  },
  {
   "cell_type": "code",
   "execution_count": null,
   "metadata": {},
   "outputs": [],
   "source": [
    "coffee_share = store_data['product_name'].value_counts()['Coffee']\n",
    "total_market = store_data['product_name'].value_counts().sum()\n",
    "other_products = total_market - coffee_share\n",
    "colour_list = ['#005261', '#A4BCC4']\n",
    "\n",
    "chart_4.pie(x=[coffee_share, other_products], labels=['Coffee', 'Other Products'], colors=colour_list)\n",
    "chart_4.set_title('Coffee Market Share', fontsize=16)\n",
    "chart_4.axis('equal')"
   ]
  },
  {
   "cell_type": "code",
   "execution_count": null,
   "metadata": {},
   "outputs": [],
   "source": [
    "display(fig)"
   ]
  },
  {
   "cell_type": "markdown",
   "metadata": {},
   "source": [
    "## 5. Export to PDF"
   ]
  },
  {
   "cell_type": "code",
   "execution_count": null,
   "metadata": {},
   "outputs": [],
   "source": [
    "fig.savefig('Big Report - Grand rapport.pdf')"
   ]
  },
  {
   "cell_type": "markdown",
   "metadata": {},
   "source": [
    "## 6. Run for all products\n",
    "* Gather the code above in a function"
   ]
  },
  {
   "cell_type": "code",
   "execution_count": null,
   "metadata": {},
   "outputs": [],
   "source": [
    "def create_dashboard(product):\n",
    "    # Create figure\n",
    "    fig = plt.figure()\n",
    "    fig.set_figheight(12.75)\n",
    "    fig.set_figwidth(21)\n",
    "    fig.set_facecolor('white')\n",
    "    rcParams['font.family'] = 'Calibri'\n",
    "    \n",
    "    # Add axes\n",
    "    header =  plt.subplot2grid((18, 8), (0, 0), rowspan=1, colspan=8)\n",
    "    chart_1 = plt.subplot2grid((18, 8), (1, 0), rowspan=8, colspan=4)\n",
    "    chart_2 = plt.subplot2grid((18, 8), (1, 4), rowspan=8, colspan=4)\n",
    "    chart_3 = plt.subplot2grid((18, 8), (9, 0), rowspan=8, colspan=4)\n",
    "    chart_4 = plt.subplot2grid((18, 8), (9, 4), rowspan=8, colspan=4)\n",
    "    footer =  plt.subplot2grid((18, 8), (17, 0), rowspan=1, colspan=8)\n",
    "    fig.tight_layout(pad=1.0, h_pad=1.8)\n",
    "    \n",
    "    # Add FIPs\n",
    "    # Top left\n",
    "    csps, width, height = get_pic('FIPs/csps.png', resize_factor=2.5)\n",
    "    fig.figimage(csps, xo=0, yo=fig.bbox.ymax - height, origin='upper', zorder=1)\n",
    "    # Bottom left\n",
    "    my_school, width, height = get_pic('FIPs/my_school.png', resize_factor=1.2)\n",
    "    fig.figimage(my_school, xo=0, yo=0, origin='upper', zorder=1)\n",
    "    # Bottom right\n",
    "    canada, width, height = get_pic('FIPs/canada.png', resize_factor=2.5)\n",
    "    fig.figimage(canada, xo=fig.bbox.xmax - width, yo=0, origin='upper', zorder=1)\n",
    "    \n",
    "    # Add text\n",
    "    footer.text(x=0.9, y=0.5, horizontalalignment='right', fontsize=8, s='See Appendix 1 for Methodology – ' + \\\n",
    "        'Consulter l\\'Annexe 1 pour la méthodologie')\n",
    "    footer.text(x=0.9, y=-0.4, horizontalalignment='right', fontsize=8, s='Report generated on – ' + \\\n",
    "        'Rapport généré le ' + datetime.datetime.today().strftime('%d/%m/%Y'))\n",
    "    footer.text(x=0.9, y=-1.3, horizontalalignment='right', fontsize=8, s='Page 1/1')\n",
    "    \n",
    "    # Remove gridlines\n",
    "    remove_gridlines(header)\n",
    "    remove_gridlines(footer)\n",
    "    \n",
    "    # Chart 1\n",
    "    labels = ['Moose', 'Beaver', 'Chipmunk']\n",
    "    values = [4, 5, 6]\n",
    "    colour_list = ['#005261', '#A4BCC4', '#54575A']\n",
    "    chart_1.pie(x=values, labels=labels, explode=[0, 0.05, 0], colors=colour_list)\n",
    "    chart_1.set_title('Species Employed in NCR', fontsize=16)\n",
    "    chart_1.axis('equal')\n",
    "    \n",
    "    # Chart 2\n",
    "    monthly = store_data.loc[store_data['product_name'] == product, ['quantity', 'month', 'month_num']]\n",
    "    monthly = monthly.groupby(['month', 'month_num'], as_index=False).sum()\n",
    "    monthly = monthly.sort_values('month_num')\n",
    "    chart_2.plot(monthly['month'], monthly['quantity'], color=colour_list[0])\n",
    "    chart_2.set_title('Monthly {0} Sales'.format(product), fontsize=16)\n",
    "    \n",
    "    # Chart 3\n",
    "    satisfied = store_data.loc[store_data['product_name'] == product, ['satisfied']].sum()\n",
    "    total = store_data.loc[store_data['product_name'] == product, ['satisfied']].count()\n",
    "    dissatisfied = total - satisfied\n",
    "    colour_list = ['#005261', '#567582']\n",
    "    bars = chart_3.bar(x=['Satisfied', 'Dissatisfied'], height=[int(satisfied), int(dissatisfied)])\n",
    "    chart_3.set_title('Customer Satisfaction with {0}'.format(product), fontsize=16)\n",
    "    bars[0].set_color(colour_list[0])\n",
    "    bars[1].set_color(colour_list[1])\n",
    "    \n",
    "    # Chart 4\n",
    "    product_share = store_data['product_name'].value_counts()[product]\n",
    "    total_market = store_data['product_name'].value_counts().sum()\n",
    "    other_products = total_market - product_share\n",
    "    colour_list = ['#005261', '#A4BCC4']\n",
    "    chart_4.pie(x=[product_share, other_products], labels=[product, 'Other Products'], colors=colour_list)\n",
    "    chart_4.set_title('{0} Market Share'.format(product), fontsize=16)\n",
    "    chart_4.axis('equal')\n",
    "    \n",
    "    # Export to PDF\n",
    "    fig.savefig('Monthly Report on {0}.pdf'.format(product))\n",
    "    \n",
    "    # Clear chart to avoid overlap with next one\n",
    "    fig.clear()\n",
    "    plt.close('all')"
   ]
  },
  {
   "cell_type": "code",
   "execution_count": null,
   "metadata": {},
   "outputs": [],
   "source": [
    "products = ['Coffee', 'Milk', 'Bud Light Lime', 'Eggs']"
   ]
  },
  {
   "cell_type": "markdown",
   "metadata": {},
   "source": [
    "* %%time measures execution time and is one of many Jupyter magic commands"
   ]
  },
  {
   "cell_type": "code",
   "execution_count": null,
   "metadata": {},
   "outputs": [],
   "source": [
    "%%time\n",
    "for product in products:\n",
    "    create_dashboard(product)"
   ]
  }
 ],
 "metadata": {
  "kernelspec": {
   "display_name": "Python 3",
   "language": "python",
   "name": "python3"
  },
  "language_info": {
   "codemirror_mode": {
    "name": "ipython",
    "version": 3
   },
   "file_extension": ".py",
   "mimetype": "text/x-python",
   "name": "python",
   "nbconvert_exporter": "python",
   "pygments_lexer": "ipython3",
   "version": "3.7.2"
  }
 },
 "nbformat": 4,
 "nbformat_minor": 2
}
