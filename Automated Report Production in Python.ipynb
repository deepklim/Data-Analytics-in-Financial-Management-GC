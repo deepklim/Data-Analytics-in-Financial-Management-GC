{
 "cells": [
  {
   "cell_type": "markdown",
   "metadata": {},
   "source": [
    "# Automated Report Production in Python"
   ]
  },
  {
   "cell_type": "code",
   "execution_count": null,
   "metadata": {},
   "outputs": [],
   "source": [
    "%matplotlib agg\n",
    "\n",
    "import datetime\n",
    "import math\n",
    "from matplotlib import rcParams\n",
    "import matplotlib.pyplot as plt\n",
    "from PIL import Image"
   ]
  },
  {
   "cell_type": "code",
   "execution_count": null,
   "metadata": {},
   "outputs": [],
   "source": [
    "fig = plt.figure()\n",
    "fig.set_figheight(12.75)\n",
    "fig.set_figwidth(21)\n",
    "fig.set_facecolor('white')\n",
    "rcParams['font.family'] = 'Calibri'"
   ]
  },
  {
   "cell_type": "code",
   "execution_count": null,
   "metadata": {},
   "outputs": [],
   "source": [
    "# Add explanation: 16 rows + 1 header + 1 footer = 18\n",
    "header =  plt.subplot2grid((18, 8), (0, 0), rowspan=1, colspan=8)\n",
    "chart_1 = plt.subplot2grid((18, 8), (1, 0), rowspan=8, colspan=4)\n",
    "chart_2 = plt.subplot2grid((18, 8), (1, 4), rowspan=8, colspan=4)\n",
    "chart_3 = plt.subplot2grid((18, 8), (9, 0), rowspan=8, colspan=4)\n",
    "chart_4 = plt.subplot2grid((18, 8), (9, 4), rowspan=8, colspan=4)\n",
    "footer =  plt.subplot2grid((18, 8), (17, 0), rowspan=1, colspan=8)"
   ]
  },
  {
   "cell_type": "code",
   "execution_count": null,
   "metadata": {},
   "outputs": [],
   "source": [
    "display(fig)"
   ]
  },
  {
   "cell_type": "code",
   "execution_count": null,
   "metadata": {},
   "outputs": [],
   "source": [
    "# Get picture\n",
    "def get_pic(file, resize_factor=1):\n",
    "    pic = Image.open(file)\n",
    "    width  = math.floor(pic.size[0] / resize_factor)\n",
    "    height = math.floor(pic.size[1] / resize_factor)\n",
    "    pic = pic.resize((width, height), resample=Image.ANTIALIAS)\n",
    "    return pic, width, height"
   ]
  },
  {
   "cell_type": "code",
   "execution_count": null,
   "metadata": {},
   "outputs": [],
   "source": [
    "# Add FIPS\n",
    "# Top left\n",
    "csps, width, height = get_pic('FIPs/csps.png', resize_factor=2.5)\n",
    "fig.figimage(csps, xo=0, yo=fig.bbox.ymax - height, origin='upper', zorder=1)\n",
    "\n",
    "# Bottom left\n",
    "my_school, width, height = get_pic('FIPs/my_school.png', resize_factor=1.2)\n",
    "fig.figimage(my_school, xo=0, yo=0, origin='upper', zorder=1)\n",
    "\n",
    "# Bottom right\n",
    "canada, width, height = get_pic('FIPs/canada.png', resize_factor=2.5)\n",
    "fig.figimage(canada, xo=fig.bbox.xmax - width, yo=0, origin='upper', zorder=1)"
   ]
  },
  {
   "cell_type": "code",
   "execution_count": null,
   "metadata": {},
   "outputs": [],
   "source": [
    "fig.tight_layout(pad=1.0, h_pad=1.8)\n",
    "display(fig)"
   ]
  },
  {
   "cell_type": "code",
   "execution_count": null,
   "metadata": {},
   "outputs": [],
   "source": [
    "# Add text\n",
    "footer.text(x=0.9, y=0.5, horizontalalignment='right', fontsize=8, s='See Appendix 1 for Methodology – ' + \\\n",
    "    'Consulter l\\'Annexe 1 pour la méthodologie')\n",
    "\n",
    "footer.text(x=0.9, y=-0.4, horizontalalignment='right', fontsize=8, s='Report generated on – ' + \\\n",
    "    'Rapport généré le ' + datetime.datetime.today().strftime('%d/%m/%Y'))\n",
    "\n",
    "footer.text(x=0.9, y=-1.3, horizontalalignment='right', fontsize=8, s='Page 1/1')"
   ]
  },
  {
   "cell_type": "code",
   "execution_count": null,
   "metadata": {},
   "outputs": [],
   "source": [
    "display(fig)"
   ]
  },
  {
   "cell_type": "code",
   "execution_count": null,
   "metadata": {},
   "outputs": [],
   "source": [
    "def remove_lines(ax):\n",
    "    ax.axis('off')\n",
    "\n",
    "remove_lines(header)\n",
    "remove_lines(footer)"
   ]
  },
  {
   "cell_type": "code",
   "execution_count": null,
   "metadata": {},
   "outputs": [],
   "source": [
    "display(fig)"
   ]
  },
  {
   "cell_type": "code",
   "execution_count": null,
   "metadata": {},
   "outputs": [],
   "source": [
    "# Add pie chart\n",
    "# Example with fake data\n",
    "values = [4, 5, 6]\n",
    "labels = ['Moose', 'Beaver', 'Chipmunk']\n",
    "\n",
    "chart_1.pie(x=values, labels=labels, explode=[0, 0.05, 0])\n",
    "# Fix skew\n",
    "chart_1.axis('equal')"
   ]
  },
  {
   "cell_type": "code",
   "execution_count": null,
   "metadata": {},
   "outputs": [],
   "source": [
    "display(fig)"
   ]
  },
  {
   "cell_type": "code",
   "execution_count": null,
   "metadata": {},
   "outputs": [],
   "source": [
    "# Now let's import data and use that for the other 3 charts\n",
    "import pandas as pd"
   ]
  },
  {
   "cell_type": "code",
   "execution_count": null,
   "metadata": {},
   "outputs": [],
   "source": [
    "store_data = pd.read_csv('store_data.csv', sep=',', index_col=0, encoding='utf-8')"
   ]
  },
  {
   "cell_type": "code",
   "execution_count": null,
   "metadata": {},
   "outputs": [],
   "source": [
    "# Any database people here, it's denormalized\n",
    "# Can do joins in Pandas if needed\n",
    "store_data.head()"
   ]
  },
  {
   "cell_type": "code",
   "execution_count": null,
   "metadata": {},
   "outputs": [],
   "source": [
    "# Coffee sales per month, with title\n",
    "monthly_coffee = store_data.loc[store_data['product_name'] == 'Coffee', ['quantity', 'month', 'month_num']]\n",
    "monthly_coffee = monthly_coffee.groupby(['month', 'month_num'], as_index=False).sum()\n",
    "monthly_coffee = monthly_coffee.sort_values('month_num')"
   ]
  },
  {
   "cell_type": "code",
   "execution_count": null,
   "metadata": {},
   "outputs": [],
   "source": [
    "monthly_coffee"
   ]
  },
  {
   "cell_type": "code",
   "execution_count": null,
   "metadata": {},
   "outputs": [],
   "source": [
    "# Plot the data\n",
    "chart_2.plot(monthly_coffee['month'], monthly_coffee['quantity'])"
   ]
  },
  {
   "cell_type": "code",
   "execution_count": null,
   "metadata": {},
   "outputs": [],
   "source": [
    "# Add a title\n",
    "chart_2.set_title('Monthly Coffee Sales', fontsize=16)"
   ]
  },
  {
   "cell_type": "code",
   "execution_count": null,
   "metadata": {
    "scrolled": false
   },
   "outputs": [],
   "source": [
    "display(fig)"
   ]
  },
  {
   "cell_type": "code",
   "execution_count": null,
   "metadata": {},
   "outputs": [],
   "source": [
    "# Chart 3: Bar chart percent satisfied by product\n",
    "store_data.head()"
   ]
  },
  {
   "cell_type": "code",
   "execution_count": null,
   "metadata": {},
   "outputs": [],
   "source": [
    "satisfied = store_data.loc[:, ['product_name', 'satisfied']].groupby(['product_name'], as_index=False).sum()\n",
    "total = store_data.loc[:, ['product_name', 'satisfied']].groupby(['product_name'], as_index=False).count()\n",
    "percentages = satisfied['satisfied'] / total['satisfied']"
   ]
  },
  {
   "cell_type": "code",
   "execution_count": null,
   "metadata": {},
   "outputs": [],
   "source": [
    "chart_3.set_ylim(0, 1.1)\n",
    "vals = chart_3.get_yticks()\n",
    "chart_3.set_yticklabels(['{:,.0%}'.format(x) for x in vals])\n",
    "\n",
    "chart_3.bar(satisfied['product_name'], height=percentages, )\n",
    "chart_3.set_title('Customer Satisfaction by Product', fontsize=16)"
   ]
  },
  {
   "cell_type": "code",
   "execution_count": null,
   "metadata": {},
   "outputs": [],
   "source": [
    "display(fig)"
   ]
  },
  {
   "cell_type": "code",
   "execution_count": null,
   "metadata": {},
   "outputs": [],
   "source": [
    "# Chart 4: pie chart for market share of products\n",
    "counts = store_data['product_name'].value_counts()"
   ]
  },
  {
   "cell_type": "code",
   "execution_count": null,
   "metadata": {},
   "outputs": [],
   "source": [
    "chart_4.pie(x=counts.values, labels=counts.index)\n",
    "chart_4.set_title('Market Share by Product', fontsize=16)\n",
    "# Fix skew\n",
    "chart_4.axis('equal')"
   ]
  },
  {
   "cell_type": "code",
   "execution_count": null,
   "metadata": {},
   "outputs": [],
   "source": [
    "display(fig)"
   ]
  },
  {
   "cell_type": "code",
   "execution_count": null,
   "metadata": {},
   "outputs": [],
   "source": [
    "# Save as PDF\n",
    "fig.savefig('Big Report - Grand rapport.pdf')"
   ]
  },
  {
   "cell_type": "code",
   "execution_count": null,
   "metadata": {},
   "outputs": [],
   "source": [
    "# Add for loop, show audience can extend this to generate many, many reports at once"
   ]
  },
  {
   "cell_type": "markdown",
   "metadata": {},
   "source": [
    "### 1. Import packages\n",
    "* Pandas: Import, crunch raw data\n",
    "* Matplotlib: Create charts\n",
    "* PIL: Image processing (use to add FIPs to the PDFs)"
   ]
  },
  {
   "cell_type": "markdown",
   "metadata": {},
   "source": [
    "### 2. Import raw data\n",
    "#### Tip: Ensure encodings match to prevent Français -> FranÃ§ais"
   ]
  },
  {
   "cell_type": "markdown",
   "metadata": {},
   "source": [
    "### 3. Build layout"
   ]
  },
  {
   "cell_type": "markdown",
   "metadata": {},
   "source": [
    "#### Using aspect ratio of a legal landscape document"
   ]
  },
  {
   "cell_type": "markdown",
   "metadata": {},
   "source": [
    "#### Divide space for our 4 charts\n",
    "#### Explanation:\n",
    "* Divide page into a 16x8 grid\n",
    "* Assign each chart to a variable and allocate it space\n",
    "* E.g. the first chart is assigned to ax0, is given 8 rows and 4 columns worth of space, starting at the top left corner, also known as position (0, 0)"
   ]
  },
  {
   "cell_type": "code",
   "execution_count": null,
   "metadata": {},
   "outputs": [],
   "source": []
  }
 ],
 "metadata": {
  "kernelspec": {
   "display_name": "Python 3",
   "language": "python",
   "name": "python3"
  },
  "language_info": {
   "codemirror_mode": {
    "name": "ipython",
    "version": 3
   },
   "file_extension": ".py",
   "mimetype": "text/x-python",
   "name": "python",
   "nbconvert_exporter": "python",
   "pygments_lexer": "ipython3",
   "version": "3.7.1"
  }
 },
 "nbformat": 4,
 "nbformat_minor": 2
}
